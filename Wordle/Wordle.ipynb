{
 "cells": [
  {
   "cell_type": "markdown",
   "metadata": {},
   "source": [
    "# STEP 1: MAKING THE GAME\n"
   ]
  },
  {
   "cell_type": "code",
   "execution_count": 1,
   "metadata": {},
   "outputs": [],
   "source": [
    "#first i make the game:\n",
    "import pandas as pd\n",
    "import numpy as np\n",
    "import random"
   ]
  },
  {
   "cell_type": "code",
   "execution_count": 2,
   "metadata": {},
   "outputs": [],
   "source": [
    "\n",
    "def processGuesses(theAnswer, theGuess):\n",
    "    position = 0\n",
    "    clue = \"\"\n",
    "    for letter in theGuess:\n",
    "        if letter == theAnswer[position]:\n",
    "            clue += \"G\"\n",
    "        elif letter in theAnswer:\n",
    "            clue += \"Y\"\n",
    "        else:\n",
    "            clue += \"-\"\n",
    "            \n",
    "        position += 1\n",
    "    print(clue)\n",
    "    \n",
    "    return clue == \"GGGGG\""
   ]
  },
  {
   "cell_type": "code",
   "execution_count": 3,
   "metadata": {},
   "outputs": [],
   "source": [
    "#word_list = []\n",
    "#word_file = pd.read_csv(\"words.csv\")\n",
    "#word_file.head(20)"
   ]
  },
  {
   "cell_type": "code",
   "execution_count": 4,
   "metadata": {},
   "outputs": [],
   "source": [
    "with open('words.csv') as f:\n",
    "    word_list = f.readlines()\n"
   ]
  },
  {
   "cell_type": "code",
   "execution_count": 5,
   "metadata": {},
   "outputs": [
    {
     "name": "stdout",
     "output_type": "stream",
     "text": [
      "Stored 'chosen_words' (list)\n"
     ]
    }
   ],
   "source": [
    "#picking a word randomly:\n",
    "#first need to make a new list of words from those with only 5 charachters and \n",
    "#with no extra charachters such as space or new line character at the end\n",
    "\n",
    "chosen_words_init = [w.strip() for w in word_list]\n",
    "chosen_words = [word.lower() for word in chosen_words_init if len(word) == 5]\n",
    "\n",
    "%store chosen_words\n",
    "#print(chosen_words)"
   ]
  },
  {
   "cell_type": "code",
   "execution_count": 6,
   "metadata": {},
   "outputs": [
    {
     "name": "stdout",
     "output_type": "stream",
     "text": [
      "dzamm\n"
     ]
    }
   ],
   "source": [
    "chosen_word = random.choice(chosen_words)\n",
    "\n",
    "print(chosen_word)"
   ]
  },
  {
   "cell_type": "code",
   "execution_count": 7,
   "metadata": {},
   "outputs": [
    {
     "name": "stdout",
     "output_type": "stream",
     "text": [
      "Input a 5-letter word and enter: janky\n",
      "You have guessed:  janky\n",
      "-Y---\n",
      "Input a 5-letter word and enter: oaten\n",
      "You have guessed:  oaten\n",
      "-Y---\n",
      "Input a 5-letter word and enter: arise\n",
      "You have guessed:  arise\n",
      "Y----\n",
      "Input a 5-letter word and enter: dzamm\n",
      "You have guessed:  dzamm\n",
      "GGGGG\n",
      "Super!!! You guessed the right word, you are pretty wordy\n"
     ]
    }
   ],
   "source": [
    "number_of_guesses = 0\n",
    "\n",
    "correct_guess = False\n",
    "\n",
    "while number_of_guesses < 6 and not correct_guess:\n",
    "    #input from user\n",
    "    guess = input(\"Input a 5-letter word and enter: \")\n",
    "    if len(guess) == 5:\n",
    "        print(\"You have guessed: \", guess)\n",
    "        number_of_guesses += 1\n",
    "    else:\n",
    "        print(\"Please enter a valid 5-letter word\")\n",
    "        continue\n",
    "        \n",
    "    #process guess:\n",
    "    \n",
    "    correct_guess = processGuesses(chosen_word, guess)\n",
    "    \n",
    "#displaying the end of the game msg:\n",
    "if correct_guess:\n",
    "    print(\"Super!!! You guessed the right word, you are pretty wordy\")\n",
    "else:\n",
    "    print(\"Ooops!! You have used up all your guesses. The correct world was: \", chosen_word)"
   ]
  },
  {
   "cell_type": "code",
   "execution_count": null,
   "metadata": {},
   "outputs": [],
   "source": []
  }
 ],
 "metadata": {
  "kernelspec": {
   "display_name": "Python 3",
   "language": "python",
   "name": "python3"
  },
  "language_info": {
   "codemirror_mode": {
    "name": "ipython",
    "version": 3
   },
   "file_extension": ".py",
   "mimetype": "text/x-python",
   "name": "python",
   "nbconvert_exporter": "python",
   "pygments_lexer": "ipython3",
   "version": "3.7.4"
  }
 },
 "nbformat": 4,
 "nbformat_minor": 2
}
